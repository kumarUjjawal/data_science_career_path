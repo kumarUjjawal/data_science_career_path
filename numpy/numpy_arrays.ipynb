{
 "cells": [
  {
   "cell_type": "markdown",
   "metadata": {},
   "source": [
    "## Attributes of Numpy Arrays"
   ]
  },
  {
   "cell_type": "code",
   "execution_count": 2,
   "metadata": {
    "collapsed": true
   },
   "outputs": [],
   "source": [
    "import numpy as np\n",
    "np.random.seed(0)"
   ]
  },
  {
   "cell_type": "code",
   "execution_count": 4,
   "metadata": {
    "collapsed": false
   },
   "outputs": [],
   "source": [
    "x1 = np.random.randint(10, size=6)\n",
    "x2 = np.random.randint(10, size=(3,3))\n",
    "x3 = np.random.randint(10, size=(2,3,5))"
   ]
  },
  {
   "cell_type": "code",
   "execution_count": 5,
   "metadata": {
    "collapsed": false
   },
   "outputs": [
    {
     "data": {
      "text/plain": [
       "array([3, 2, 7, 2, 0, 0])"
      ]
     },
     "execution_count": 5,
     "metadata": {},
     "output_type": "execute_result"
    }
   ],
   "source": [
    "x1"
   ]
  },
  {
   "cell_type": "code",
   "execution_count": 6,
   "metadata": {
    "collapsed": false
   },
   "outputs": [
    {
     "data": {
      "text/plain": [
       "array([[4, 5, 5],\n",
       "       [6, 8, 4],\n",
       "       [1, 4, 9]])"
      ]
     },
     "execution_count": 6,
     "metadata": {},
     "output_type": "execute_result"
    }
   ],
   "source": [
    "x2"
   ]
  },
  {
   "cell_type": "code",
   "execution_count": 7,
   "metadata": {
    "collapsed": false
   },
   "outputs": [
    {
     "data": {
      "text/plain": [
       "array([[[8, 1, 1, 7, 9],\n",
       "        [9, 3, 6, 7, 2],\n",
       "        [0, 3, 5, 9, 4]],\n",
       "\n",
       "       [[4, 6, 4, 4, 3],\n",
       "        [4, 4, 8, 4, 3],\n",
       "        [7, 5, 5, 0, 1]]])"
      ]
     },
     "execution_count": 7,
     "metadata": {},
     "output_type": "execute_result"
    }
   ],
   "source": [
    "x3"
   ]
  },
  {
   "cell_type": "code",
   "execution_count": 10,
   "metadata": {
    "collapsed": false
   },
   "outputs": [
    {
     "name": "stdout",
     "output_type": "stream",
     "text": [
      "('Dimention: ', 3)\n",
      "('Shape: ', (2, 3, 5))\n",
      "('Size: ', 30)\n",
      "('Type: ', dtype('int64'))\n",
      "('Item Size: ', 8)\n",
      "('Total Size(in Bytes): ', 240)\n"
     ]
    }
   ],
   "source": [
    "print(\"Dimention: \", x3.ndim)\n",
    "print(\"Shape: \", x3.shape)\n",
    "print(\"Size: \", x3.size) # total size of array\n",
    "print(\"Type: \", x3.dtype)\n",
    "print(\"Item Size: \", x3.itemsize) # size of each element(in bytes)\n",
    "print(\"Total Size(in Bytes): \", x3.nbytes)"
   ]
  },
  {
   "cell_type": "code",
   "execution_count": null,
   "metadata": {
    "collapsed": true
   },
   "outputs": [],
   "source": []
  }
 ],
 "metadata": {
  "kernelspec": {
   "display_name": "Python [conda env:anaconda]",
   "language": "python",
   "name": "conda-env-anaconda-py"
  },
  "language_info": {
   "codemirror_mode": {
    "name": "ipython",
    "version": 2
   },
   "file_extension": ".py",
   "mimetype": "text/x-python",
   "name": "python",
   "nbconvert_exporter": "python",
   "pygments_lexer": "ipython2",
   "version": "2.7.15"
  }
 },
 "nbformat": 4,
 "nbformat_minor": 1
}
