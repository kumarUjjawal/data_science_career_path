{
 "cells": [
  {
   "cell_type": "markdown",
   "metadata": {},
   "source": [
    "## Data Denoising"
   ]
  },
  {
   "cell_type": "code",
   "execution_count": 1,
   "metadata": {},
   "outputs": [
    {
     "name": "stdout",
     "output_type": "stream",
     "text": [
      "(21, 15)\n"
     ]
    },
    {
     "data": {
      "text/html": [
       "<div>\n",
       "<style scoped>\n",
       "    .dataframe tbody tr th:only-of-type {\n",
       "        vertical-align: middle;\n",
       "    }\n",
       "\n",
       "    .dataframe tbody tr th {\n",
       "        vertical-align: top;\n",
       "    }\n",
       "\n",
       "    .dataframe thead th {\n",
       "        text-align: right;\n",
       "    }\n",
       "</style>\n",
       "<table border=\"1\" class=\"dataframe\">\n",
       "  <thead>\n",
       "    <tr style=\"text-align: right;\">\n",
       "      <th></th>\n",
       "      <th>bathrooms</th>\n",
       "      <th>bedrooms</th>\n",
       "      <th>building_id</th>\n",
       "      <th>created</th>\n",
       "      <th>description</th>\n",
       "      <th>display_address</th>\n",
       "      <th>features</th>\n",
       "      <th>interest_level</th>\n",
       "      <th>latitude</th>\n",
       "      <th>listing_id</th>\n",
       "      <th>longitude</th>\n",
       "      <th>manager_id</th>\n",
       "      <th>photos</th>\n",
       "      <th>price</th>\n",
       "      <th>street_address</th>\n",
       "    </tr>\n",
       "  </thead>\n",
       "  <tbody>\n",
       "    <tr>\n",
       "      <th>0</th>\n",
       "      <td>1.5</td>\n",
       "      <td>3</td>\n",
       "      <td>53a5b119ba8f7b61d4e010512e0dfc85</td>\n",
       "      <td>2016-06-24 07:54:24</td>\n",
       "      <td>A Brand New 3 Bedroom 1.5 bath ApartmentEnjoy ...</td>\n",
       "      <td>Metropolitan Avenue</td>\n",
       "      <td>[]</td>\n",
       "      <td>medium</td>\n",
       "      <td>40.7145</td>\n",
       "      <td>7211212</td>\n",
       "      <td>-73.9425</td>\n",
       "      <td>5ba989232d0489da1b5f2c45f6688adc</td>\n",
       "      <td>[u'https://photos.renthop.com/2/7211212_1ed454...</td>\n",
       "      <td>3000</td>\n",
       "      <td>792 Metropolitan Avenue</td>\n",
       "    </tr>\n",
       "    <tr>\n",
       "      <th>1</th>\n",
       "      <td>1.0</td>\n",
       "      <td>2</td>\n",
       "      <td>c5c8a357cba207596b04d1afd1e4f130</td>\n",
       "      <td>2016-06-12 12:19:27</td>\n",
       "      <td></td>\n",
       "      <td>Columbus Avenue</td>\n",
       "      <td>[u'Doorman', u'Elevator', u'Fitness Center', u...</td>\n",
       "      <td>low</td>\n",
       "      <td>40.7947</td>\n",
       "      <td>7150865</td>\n",
       "      <td>-73.9667</td>\n",
       "      <td>7533621a882f71e25173b27e3139d83d</td>\n",
       "      <td>[u'https://photos.renthop.com/2/7150865_be3306...</td>\n",
       "      <td>5465</td>\n",
       "      <td>808 Columbus Avenue</td>\n",
       "    </tr>\n",
       "    <tr>\n",
       "      <th>2</th>\n",
       "      <td>1.0</td>\n",
       "      <td>1</td>\n",
       "      <td>c3ba40552e2120b0acfc3cb5730bb2aa</td>\n",
       "      <td>2016-04-17 03:26:41</td>\n",
       "      <td>Top Top West Village location, beautiful Pre-w...</td>\n",
       "      <td>W 13 Street</td>\n",
       "      <td>[u'Laundry In Building', u'Dishwasher', u'Hard...</td>\n",
       "      <td>high</td>\n",
       "      <td>40.7388</td>\n",
       "      <td>6887163</td>\n",
       "      <td>-74.0018</td>\n",
       "      <td>d9039c43983f6e564b1482b273bd7b01</td>\n",
       "      <td>[u'https://photos.renthop.com/2/6887163_de85c4...</td>\n",
       "      <td>2850</td>\n",
       "      <td>241 W 13 Street</td>\n",
       "    </tr>\n",
       "  </tbody>\n",
       "</table>\n",
       "</div>"
      ],
      "text/plain": [
       "   bathrooms  bedrooms                       building_id              created  \\\n",
       "0        1.5         3  53a5b119ba8f7b61d4e010512e0dfc85  2016-06-24 07:54:24   \n",
       "1        1.0         2  c5c8a357cba207596b04d1afd1e4f130  2016-06-12 12:19:27   \n",
       "2        1.0         1  c3ba40552e2120b0acfc3cb5730bb2aa  2016-04-17 03:26:41   \n",
       "\n",
       "                                         description      display_address  \\\n",
       "0  A Brand New 3 Bedroom 1.5 bath ApartmentEnjoy ...  Metropolitan Avenue   \n",
       "1                                                         Columbus Avenue   \n",
       "2  Top Top West Village location, beautiful Pre-w...          W 13 Street   \n",
       "\n",
       "                                            features interest_level  latitude  \\\n",
       "0                                                 []         medium   40.7145   \n",
       "1  [u'Doorman', u'Elevator', u'Fitness Center', u...            low   40.7947   \n",
       "2  [u'Laundry In Building', u'Dishwasher', u'Hard...           high   40.7388   \n",
       "\n",
       "   listing_id  longitude                        manager_id  \\\n",
       "0     7211212   -73.9425  5ba989232d0489da1b5f2c45f6688adc   \n",
       "1     7150865   -73.9667  7533621a882f71e25173b27e3139d83d   \n",
       "2     6887163   -74.0018  d9039c43983f6e564b1482b273bd7b01   \n",
       "\n",
       "                                              photos  price  \\\n",
       "0  [u'https://photos.renthop.com/2/7211212_1ed454...   3000   \n",
       "1  [u'https://photos.renthop.com/2/7150865_be3306...   5465   \n",
       "2  [u'https://photos.renthop.com/2/6887163_de85c4...   2850   \n",
       "\n",
       "            street_address  \n",
       "0  792 Metropolitan Avenue  \n",
       "1      808 Columbus Avenue  \n",
       "2          241 W 13 Street  "
      ]
     },
     "execution_count": 1,
     "metadata": {},
     "output_type": "execute_result"
    }
   ],
   "source": [
    "import pandas as pd\n",
    "\n",
    "df = pd.read_csv('./data/rent.csv')\n",
    "print(df.shape)\n",
    "df.head(3)"
   ]
  },
  {
   "cell_type": "code",
   "execution_count": 2,
   "metadata": {},
   "outputs": [
    {
     "data": {
      "text/html": [
       "<div>\n",
       "<style scoped>\n",
       "    .dataframe tbody tr th:only-of-type {\n",
       "        vertical-align: middle;\n",
       "    }\n",
       "\n",
       "    .dataframe tbody tr th {\n",
       "        vertical-align: top;\n",
       "    }\n",
       "\n",
       "    .dataframe thead th {\n",
       "        text-align: right;\n",
       "    }\n",
       "</style>\n",
       "<table border=\"1\" class=\"dataframe\">\n",
       "  <thead>\n",
       "    <tr style=\"text-align: right;\">\n",
       "      <th></th>\n",
       "      <th>0</th>\n",
       "      <th>1</th>\n",
       "      <th>2</th>\n",
       "    </tr>\n",
       "  </thead>\n",
       "  <tbody>\n",
       "    <tr>\n",
       "      <th>bathrooms</th>\n",
       "      <td>1.5</td>\n",
       "      <td>1</td>\n",
       "      <td>1</td>\n",
       "    </tr>\n",
       "    <tr>\n",
       "      <th>bedrooms</th>\n",
       "      <td>3</td>\n",
       "      <td>2</td>\n",
       "      <td>1</td>\n",
       "    </tr>\n",
       "    <tr>\n",
       "      <th>building_id</th>\n",
       "      <td>53a5b119ba8f7b61d4e010512e0dfc85</td>\n",
       "      <td>c5c8a357cba207596b04d1afd1e4f130</td>\n",
       "      <td>c3ba40552e2120b0acfc3cb5730bb2aa</td>\n",
       "    </tr>\n",
       "    <tr>\n",
       "      <th>created</th>\n",
       "      <td>2016-06-24 07:54:24</td>\n",
       "      <td>2016-06-12 12:19:27</td>\n",
       "      <td>2016-04-17 03:26:41</td>\n",
       "    </tr>\n",
       "    <tr>\n",
       "      <th>description</th>\n",
       "      <td>A Brand New 3 Bedroom 1.5 bath ApartmentEnjoy ...</td>\n",
       "      <td></td>\n",
       "      <td>Top Top West Village location, beautiful Pre-w...</td>\n",
       "    </tr>\n",
       "    <tr>\n",
       "      <th>display_address</th>\n",
       "      <td>Metropolitan Avenue</td>\n",
       "      <td>Columbus Avenue</td>\n",
       "      <td>W 13 Street</td>\n",
       "    </tr>\n",
       "    <tr>\n",
       "      <th>features</th>\n",
       "      <td>[]</td>\n",
       "      <td>[u'Doorman', u'Elevator', u'Fitness Center', u...</td>\n",
       "      <td>[u'Laundry In Building', u'Dishwasher', u'Hard...</td>\n",
       "    </tr>\n",
       "    <tr>\n",
       "      <th>interest_level</th>\n",
       "      <td>medium</td>\n",
       "      <td>low</td>\n",
       "      <td>high</td>\n",
       "    </tr>\n",
       "    <tr>\n",
       "      <th>latitude</th>\n",
       "      <td>40.7145</td>\n",
       "      <td>40.7947</td>\n",
       "      <td>40.7388</td>\n",
       "    </tr>\n",
       "    <tr>\n",
       "      <th>listing_id</th>\n",
       "      <td>7211212</td>\n",
       "      <td>7150865</td>\n",
       "      <td>6887163</td>\n",
       "    </tr>\n",
       "    <tr>\n",
       "      <th>longitude</th>\n",
       "      <td>-73.9425</td>\n",
       "      <td>-73.9667</td>\n",
       "      <td>-74.0018</td>\n",
       "    </tr>\n",
       "    <tr>\n",
       "      <th>manager_id</th>\n",
       "      <td>5ba989232d0489da1b5f2c45f6688adc</td>\n",
       "      <td>7533621a882f71e25173b27e3139d83d</td>\n",
       "      <td>d9039c43983f6e564b1482b273bd7b01</td>\n",
       "    </tr>\n",
       "    <tr>\n",
       "      <th>photos</th>\n",
       "      <td>[u'https://photos.renthop.com/2/7211212_1ed454...</td>\n",
       "      <td>[u'https://photos.renthop.com/2/7150865_be3306...</td>\n",
       "      <td>[u'https://photos.renthop.com/2/6887163_de85c4...</td>\n",
       "    </tr>\n",
       "    <tr>\n",
       "      <th>price</th>\n",
       "      <td>3000</td>\n",
       "      <td>5465</td>\n",
       "      <td>2850</td>\n",
       "    </tr>\n",
       "    <tr>\n",
       "      <th>street_address</th>\n",
       "      <td>792 Metropolitan Avenue</td>\n",
       "      <td>808 Columbus Avenue</td>\n",
       "      <td>241 W 13 Street</td>\n",
       "    </tr>\n",
       "  </tbody>\n",
       "</table>\n",
       "</div>"
      ],
      "text/plain": [
       "                                                                 0  \\\n",
       "bathrooms                                                      1.5   \n",
       "bedrooms                                                         3   \n",
       "building_id                       53a5b119ba8f7b61d4e010512e0dfc85   \n",
       "created                                        2016-06-24 07:54:24   \n",
       "description      A Brand New 3 Bedroom 1.5 bath ApartmentEnjoy ...   \n",
       "display_address                                Metropolitan Avenue   \n",
       "features                                                        []   \n",
       "interest_level                                              medium   \n",
       "latitude                                                   40.7145   \n",
       "listing_id                                                 7211212   \n",
       "longitude                                                 -73.9425   \n",
       "manager_id                        5ba989232d0489da1b5f2c45f6688adc   \n",
       "photos           [u'https://photos.renthop.com/2/7211212_1ed454...   \n",
       "price                                                         3000   \n",
       "street_address                             792 Metropolitan Avenue   \n",
       "\n",
       "                                                                 1  \\\n",
       "bathrooms                                                        1   \n",
       "bedrooms                                                         2   \n",
       "building_id                       c5c8a357cba207596b04d1afd1e4f130   \n",
       "created                                        2016-06-12 12:19:27   \n",
       "description                                                          \n",
       "display_address                                    Columbus Avenue   \n",
       "features         [u'Doorman', u'Elevator', u'Fitness Center', u...   \n",
       "interest_level                                                 low   \n",
       "latitude                                                   40.7947   \n",
       "listing_id                                                 7150865   \n",
       "longitude                                                 -73.9667   \n",
       "manager_id                        7533621a882f71e25173b27e3139d83d   \n",
       "photos           [u'https://photos.renthop.com/2/7150865_be3306...   \n",
       "price                                                         5465   \n",
       "street_address                                 808 Columbus Avenue   \n",
       "\n",
       "                                                                 2  \n",
       "bathrooms                                                        1  \n",
       "bedrooms                                                         1  \n",
       "building_id                       c3ba40552e2120b0acfc3cb5730bb2aa  \n",
       "created                                        2016-04-17 03:26:41  \n",
       "description      Top Top West Village location, beautiful Pre-w...  \n",
       "display_address                                        W 13 Street  \n",
       "features         [u'Laundry In Building', u'Dishwasher', u'Hard...  \n",
       "interest_level                                                high  \n",
       "latitude                                                   40.7388  \n",
       "listing_id                                                 6887163  \n",
       "longitude                                                 -74.0018  \n",
       "manager_id                        d9039c43983f6e564b1482b273bd7b01  \n",
       "photos           [u'https://photos.renthop.com/2/6887163_de85c4...  \n",
       "price                                                         2850  \n",
       "street_address                                     241 W 13 Street  "
      ]
     },
     "execution_count": 2,
     "metadata": {},
     "output_type": "execute_result"
    }
   ],
   "source": [
    "df.head(3).T"
   ]
  },
  {
   "cell_type": "code",
   "execution_count": 3,
   "metadata": {},
   "outputs": [
    {
     "name": "stdout",
     "output_type": "stream",
     "text": [
      "<class 'pandas.core.frame.DataFrame'>\n",
      "RangeIndex: 21 entries, 0 to 20\n",
      "Data columns (total 15 columns):\n",
      "bathrooms          21 non-null float64\n",
      "bedrooms           21 non-null int64\n",
      "building_id        21 non-null object\n",
      "created            21 non-null object\n",
      "description        21 non-null object\n",
      "display_address    21 non-null object\n",
      "features           21 non-null object\n",
      "interest_level     21 non-null object\n",
      "latitude           21 non-null float64\n",
      "listing_id         21 non-null int64\n",
      "longitude          21 non-null float64\n",
      "manager_id         21 non-null object\n",
      "photos             21 non-null object\n",
      "price              21 non-null int64\n",
      "street_address     21 non-null object\n",
      "dtypes: float64(3), int64(3), object(9)\n",
      "memory usage: 2.5+ KB\n"
     ]
    }
   ],
   "source": [
    "df.info()"
   ]
  },
  {
   "cell_type": "code",
   "execution_count": 4,
   "metadata": {},
   "outputs": [
    {
     "data": {
      "text/html": [
       "<div>\n",
       "<style scoped>\n",
       "    .dataframe tbody tr th:only-of-type {\n",
       "        vertical-align: middle;\n",
       "    }\n",
       "\n",
       "    .dataframe tbody tr th {\n",
       "        vertical-align: top;\n",
       "    }\n",
       "\n",
       "    .dataframe thead th {\n",
       "        text-align: right;\n",
       "    }\n",
       "</style>\n",
       "<table border=\"1\" class=\"dataframe\">\n",
       "  <thead>\n",
       "    <tr style=\"text-align: right;\">\n",
       "      <th></th>\n",
       "      <th>longitude</th>\n",
       "      <th>latitude</th>\n",
       "      <th>bedrooms</th>\n",
       "      <th>bathrooms</th>\n",
       "      <th>price</th>\n",
       "    </tr>\n",
       "  </thead>\n",
       "  <tbody>\n",
       "    <tr>\n",
       "      <th>0</th>\n",
       "      <td>-73.9425</td>\n",
       "      <td>40.7145</td>\n",
       "      <td>3</td>\n",
       "      <td>1.5</td>\n",
       "      <td>3000</td>\n",
       "    </tr>\n",
       "    <tr>\n",
       "      <th>1</th>\n",
       "      <td>-73.9667</td>\n",
       "      <td>40.7947</td>\n",
       "      <td>2</td>\n",
       "      <td>1.0</td>\n",
       "      <td>5465</td>\n",
       "    </tr>\n",
       "    <tr>\n",
       "      <th>2</th>\n",
       "      <td>-74.0018</td>\n",
       "      <td>40.7388</td>\n",
       "      <td>1</td>\n",
       "      <td>1.0</td>\n",
       "      <td>2850</td>\n",
       "    </tr>\n",
       "  </tbody>\n",
       "</table>\n",
       "</div>"
      ],
      "text/plain": [
       "   longitude  latitude  bedrooms  bathrooms  price\n",
       "0   -73.9425   40.7145         3        1.5   3000\n",
       "1   -73.9667   40.7947         2        1.0   5465\n",
       "2   -74.0018   40.7388         1        1.0   2850"
      ]
     },
     "execution_count": 4,
     "metadata": {},
     "output_type": "execute_result"
    }
   ],
   "source": [
    "df_num = df[['longitude','latitude','bedrooms','bathrooms','price']]\n",
    "df_num.head(3)"
   ]
  },
  {
   "cell_type": "code",
   "execution_count": 5,
   "metadata": {},
   "outputs": [
    {
     "name": "stdout",
     "output_type": "stream",
     "text": [
      "longitude    False\n",
      "latitude     False\n",
      "bedrooms     False\n",
      "bathrooms    False\n",
      "price        False\n",
      "dtype: bool\n"
     ]
    }
   ],
   "source": [
    "print(df_num.isnull().any())"
   ]
  },
  {
   "cell_type": "code",
   "execution_count": 6,
   "metadata": {},
   "outputs": [],
   "source": [
    "X_train = df_num.drop('price', axis=1)\n",
    "y_train = df_num['price']"
   ]
  },
  {
   "cell_type": "code",
   "execution_count": 7,
   "metadata": {},
   "outputs": [],
   "source": [
    "from sklearn.ensemble import RandomForestRegressor\n",
    "\n",
    "rf = RandomForestRegressor(n_estimators=100, n_jobs=-1)"
   ]
  },
  {
   "cell_type": "code",
   "execution_count": 8,
   "metadata": {},
   "outputs": [
    {
     "data": {
      "text/plain": [
       "RandomForestRegressor(bootstrap=True, criterion='mse', max_depth=None,\n",
       "           max_features='auto', max_leaf_nodes=None,\n",
       "           min_impurity_decrease=0.0, min_impurity_split=None,\n",
       "           min_samples_leaf=1, min_samples_split=2,\n",
       "           min_weight_fraction_leaf=0.0, n_estimators=100, n_jobs=-1,\n",
       "           oob_score=False, random_state=None, verbose=0, warm_start=False)"
      ]
     },
     "execution_count": 8,
     "metadata": {},
     "output_type": "execute_result"
    }
   ],
   "source": [
    "rf.fit(X_train,y_train)"
   ]
  },
  {
   "cell_type": "code",
   "execution_count": 9,
   "metadata": {},
   "outputs": [
    {
     "name": "stdout",
     "output_type": "stream",
     "text": [
      "0.9581385988777059\n"
     ]
    }
   ],
   "source": [
    "error = rf.score(X_train, y_train)\n",
    "print(error)"
   ]
  },
  {
   "cell_type": "code",
   "execution_count": 13,
   "metadata": {},
   "outputs": [
    {
     "name": "stdout",
     "output_type": "stream",
     "text": [
      "('oob Score: ', 0.7000778037518235)\n"
     ]
    }
   ],
   "source": [
    "rf = RandomForestRegressor(n_estimators=100, n_jobs=-1, oob_score=True)\n",
    "rf.fit(X_train, y_train)\n",
    "noisy_oob = rf.oob_score_\n",
    "print('oob Score: ',noisy_oob)"
   ]
  },
  {
   "cell_type": "code",
   "execution_count": 14,
   "metadata": {},
   "outputs": [
    {
     "data": {
      "text/html": [
       "<div>\n",
       "<style scoped>\n",
       "    .dataframe tbody tr th:only-of-type {\n",
       "        vertical-align: middle;\n",
       "    }\n",
       "\n",
       "    .dataframe tbody tr th {\n",
       "        vertical-align: top;\n",
       "    }\n",
       "\n",
       "    .dataframe thead th {\n",
       "        text-align: right;\n",
       "    }\n",
       "</style>\n",
       "<table border=\"1\" class=\"dataframe\">\n",
       "  <thead>\n",
       "    <tr style=\"text-align: right;\">\n",
       "      <th></th>\n",
       "      <th>longitude</th>\n",
       "      <th>latitude</th>\n",
       "      <th>bedrooms</th>\n",
       "      <th>bathrooms</th>\n",
       "      <th>price</th>\n",
       "    </tr>\n",
       "  </thead>\n",
       "  <tbody>\n",
       "    <tr>\n",
       "      <th>count</th>\n",
       "      <td>21.000000</td>\n",
       "      <td>21.000000</td>\n",
       "      <td>21.000000</td>\n",
       "      <td>21.000000</td>\n",
       "      <td>21.000000</td>\n",
       "    </tr>\n",
       "    <tr>\n",
       "      <th>mean</th>\n",
       "      <td>-73.968681</td>\n",
       "      <td>40.770495</td>\n",
       "      <td>1.904762</td>\n",
       "      <td>1.214286</td>\n",
       "      <td>3825.619048</td>\n",
       "    </tr>\n",
       "    <tr>\n",
       "      <th>std</th>\n",
       "      <td>0.020752</td>\n",
       "      <td>0.041937</td>\n",
       "      <td>1.300183</td>\n",
       "      <td>0.405322</td>\n",
       "      <td>1749.662410</td>\n",
       "    </tr>\n",
       "    <tr>\n",
       "      <th>min</th>\n",
       "      <td>-74.002800</td>\n",
       "      <td>40.714500</td>\n",
       "      <td>0.000000</td>\n",
       "      <td>1.000000</td>\n",
       "      <td>1675.000000</td>\n",
       "    </tr>\n",
       "    <tr>\n",
       "      <th>25%</th>\n",
       "      <td>-73.981700</td>\n",
       "      <td>40.742700</td>\n",
       "      <td>1.000000</td>\n",
       "      <td>1.000000</td>\n",
       "      <td>2850.000000</td>\n",
       "    </tr>\n",
       "    <tr>\n",
       "      <th>50%</th>\n",
       "      <td>-73.967700</td>\n",
       "      <td>40.753900</td>\n",
       "      <td>2.000000</td>\n",
       "      <td>1.000000</td>\n",
       "      <td>3350.000000</td>\n",
       "    </tr>\n",
       "    <tr>\n",
       "      <th>75%</th>\n",
       "      <td>-73.949300</td>\n",
       "      <td>40.799900</td>\n",
       "      <td>3.000000</td>\n",
       "      <td>1.000000</td>\n",
       "      <td>5000.000000</td>\n",
       "    </tr>\n",
       "    <tr>\n",
       "      <th>max</th>\n",
       "      <td>-73.928000</td>\n",
       "      <td>40.864300</td>\n",
       "      <td>4.000000</td>\n",
       "      <td>2.000000</td>\n",
       "      <td>7995.000000</td>\n",
       "    </tr>\n",
       "  </tbody>\n",
       "</table>\n",
       "</div>"
      ],
      "text/plain": [
       "       longitude   latitude   bedrooms  bathrooms        price\n",
       "count  21.000000  21.000000  21.000000  21.000000    21.000000\n",
       "mean  -73.968681  40.770495   1.904762   1.214286  3825.619048\n",
       "std     0.020752   0.041937   1.300183   0.405322  1749.662410\n",
       "min   -74.002800  40.714500   0.000000   1.000000  1675.000000\n",
       "25%   -73.981700  40.742700   1.000000   1.000000  2850.000000\n",
       "50%   -73.967700  40.753900   2.000000   1.000000  3350.000000\n",
       "75%   -73.949300  40.799900   3.000000   1.000000  5000.000000\n",
       "max   -73.928000  40.864300   4.000000   2.000000  7995.000000"
      ]
     },
     "execution_count": 14,
     "metadata": {},
     "output_type": "execute_result"
    }
   ],
   "source": [
    "df_num.describe()"
   ]
  },
  {
   "cell_type": "code",
   "execution_count": 15,
   "metadata": {},
   "outputs": [
    {
     "name": "stdout",
     "output_type": "stream",
     "text": [
      "5     7995\n",
      "13    6895\n",
      "9     5800\n",
      "7     5645\n",
      "1     5465\n",
      "18    5000\n",
      "20    4395\n",
      "19    3973\n",
      "16    3650\n",
      "6     3600\n",
      "Name: price, dtype: int64\n"
     ]
    }
   ],
   "source": [
    "print(df_num.price.sort_values(ascending=False).head(10))"
   ]
  },
  {
   "cell_type": "code",
   "execution_count": 18,
   "metadata": {},
   "outputs": [
    {
     "name": "stdout",
     "output_type": "stream",
     "text": [
      "<bound method Series.value_counts of 0     1.5\n",
      "1     1.0\n",
      "2     1.0\n",
      "3     1.0\n",
      "4     1.0\n",
      "5     2.0\n",
      "6     1.0\n",
      "7     2.0\n",
      "8     1.0\n",
      "9     2.0\n",
      "10    1.0\n",
      "11    1.0\n",
      "12    1.0\n",
      "13    2.0\n",
      "14    1.0\n",
      "15    1.0\n",
      "16    1.0\n",
      "17    1.0\n",
      "18    1.0\n",
      "19    1.0\n",
      "20    1.0\n",
      "Name: bathrooms, dtype: float64>\n"
     ]
    }
   ],
   "source": [
    "print(df_num.bathrooms.value_counts)"
   ]
  },
  {
   "cell_type": "code",
   "execution_count": 19,
   "metadata": {},
   "outputs": [
    {
     "name": "stdout",
     "output_type": "stream",
     "text": [
      "<bound method Series.value_counts of 0     3\n",
      "1     2\n",
      "2     1\n",
      "3     1\n",
      "4     4\n",
      "5     4\n",
      "6     2\n",
      "7     1\n",
      "8     1\n",
      "9     4\n",
      "10    0\n",
      "11    1\n",
      "12    2\n",
      "13    2\n",
      "14    1\n",
      "15    0\n",
      "16    2\n",
      "17    1\n",
      "18    4\n",
      "19    1\n",
      "20    3\n",
      "Name: bedrooms, dtype: int64>\n"
     ]
    }
   ],
   "source": [
    "print(df_num.bedrooms.value_counts)"
   ]
  },
  {
   "cell_type": "code",
   "execution_count": 22,
   "metadata": {},
   "outputs": [
    {
     "data": {
      "image/png": "[encoded data removed]",
      "text/plain": [
       "<Figure size 432x288 with 1 Axes>"
      ]
     },
     "metadata": {},
     "output_type": "display_data"
    }
   ],
   "source": [
    "%matplotlib inline\n",
    "import matplotlib.pyplot as plt\n",
    "fig,ax = plt.subplots()\n",
    "ax.set_xlabel('Number of Bedrooms')\n",
    "ax.set_ylabel('Number of Apartments')\n",
    "ax.hist(df_num.bedrooms, color='blue');"
   ]
  },
  {
   "cell_type": "code",
   "execution_count": 24,
   "metadata": {},
   "outputs": [
    {
     "name": "stdout",
     "output_type": "stream",
     "text": [
      "0\n"
     ]
    }
   ],
   "source": [
    "print(len(df[(df.longitude == 0.0) & (df.latitude == 0.0)]))"
   ]
  },
  {
   "cell_type": "code",
   "execution_count": null,
   "metadata": {},
   "outputs": [],
   "source": []
  }
 ],
 "metadata": {
  "anaconda-cloud": {},
  "kernelspec": {
   "display_name": "Python [conda env:anaconda]",
   "language": "python",
   "name": "conda-env-anaconda-py"
  },
  "language_info": {
   "codemirror_mode": {
    "name": "ipython",
    "version": 2
   },
   "file_extension": ".py",
   "mimetype": "text/x-python",
   "name": "python",
   "nbconvert_exporter": "python",
   "pygments_lexer": "ipython2",
   "version": "2.7.15"
  }
 },
 "nbformat": 4,
 "nbformat_minor": 2
}
