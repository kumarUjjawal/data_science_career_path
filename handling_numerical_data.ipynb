{
 "cells": [
  {
   "cell_type": "markdown",
   "metadata": {},
   "source": [
    "## Handling Numerical Data"
   ]
  },
  {
   "cell_type": "code",
   "execution_count": 1,
   "metadata": {},
   "outputs": [],
   "source": [
    "import numpy as np\n",
    "from sklearn import preprocessing\n",
    "\n",
    "feature = np.array([[-500.5],\n",
    "                    [-200.2],\n",
    "                    [100],\n",
    "                    [0],\n",
    "                    [900.9]])"
   ]
  },
  {
   "cell_type": "code",
   "execution_count": 6,
   "metadata": {},
   "outputs": [],
   "source": [
    "minmax_scale = preprocessing.MinMaxScaler(feature_range=(0,1))"
   ]
  },
  {
   "cell_type": "code",
   "execution_count": 7,
   "metadata": {},
   "outputs": [
    {
     "data": {
      "text/plain": [
       "array([[0.        ],\n",
       "       [0.21428571],\n",
       "       [0.42850007],\n",
       "       [0.35714286],\n",
       "       [1.        ]])"
      ]
     },
     "execution_count": 7,
     "metadata": {},
     "output_type": "execute_result"
    }
   ],
   "source": [
    "scaled_feature = minmax_scale.fit_transform(feature)\n",
    "scaled_feature"
   ]
  },
  {
   "cell_type": "code",
   "execution_count": 8,
   "metadata": {},
   "outputs": [
    {
     "data": {
      "text/plain": [
       "array([[-1.0446243 ],\n",
       "       [-0.72280615],\n",
       "       [ 0.24168479],\n",
       "       [ 1.52574566]])"
      ]
     },
     "execution_count": 8,
     "metadata": {},
     "output_type": "execute_result"
    }
   ],
   "source": [
    "X = np.array([[100.0],\n",
    "              [200.2],\n",
    "              [500.5],\n",
    "              [900.3]])\n",
    "\n",
    "scalar = preprocessing.StandardScaler()\n",
    "\n",
    "standized = scalar.fit_transform(X)\n",
    "\n",
    "standized"
   ]
  },
  {
   "cell_type": "code",
   "execution_count": 9,
   "metadata": {},
   "outputs": [
    {
     "data": {
      "text/plain": [
       "array([[0.70710678, 0.70710678],\n",
       "       [0.30782029, 0.95144452],\n",
       "       [0.65079137, 0.7592566 ],\n",
       "       [0.49613894, 0.86824314]])"
      ]
     },
     "execution_count": 9,
     "metadata": {},
     "output_type": "execute_result"
    }
   ],
   "source": [
    "# Normaliaing\n",
    "from sklearn.preprocessing import Normalizer\n",
    "\n",
    "data = np.array([[0.5,0.5],\n",
    "                 [1.1,3.4],\n",
    "                 [1.8,2.1],\n",
    "                 [0.4,0.7]])\n",
    "\n",
    "normalize = Normalizer(norm='l2')\n",
    "\n",
    "normalize.transform(data)"
   ]
  },
  {
   "cell_type": "code",
   "execution_count": 15,
   "metadata": {},
   "outputs": [
    {
     "name": "stdout",
     "output_type": "stream",
     "text": [
      "[[2. 3. 4. 6. 9.]\n",
      " [2. 3. 4. 6. 9.]\n",
      " [2. 3. 4. 6. 9.]\n",
      " [2. 3. 4. 6. 9.]]\n"
     ]
    }
   ],
   "source": [
    "# Genrating Polynomial and Interaction Feature\n",
    "from sklearn.preprocessing import PolynomialFeatures\n",
    "\n",
    "x = np.array([[2,3],\n",
    "              [2,3],\n",
    "              [2,3],\n",
    "              [2,3]])\n",
    "\n",
    "polynomial_interaction = PolynomialFeatures(degree=2, include_bias=False)\n",
    "\n",
    "poly = polynomial_interaction.fit_transform(x)\n",
    "\n",
    "print(poly)"
   ]
  },
  {
   "cell_type": "code",
   "execution_count": 17,
   "metadata": {},
   "outputs": [
    {
     "data": {
      "text/plain": [
       "array([[12, 13],\n",
       "       [12, 13],\n",
       "       [12, 13],\n",
       "       [12, 13]])"
      ]
     },
     "execution_count": 17,
     "metadata": {},
     "output_type": "execute_result"
    }
   ],
   "source": [
    "# Transforming Features\n",
    "from sklearn.preprocessing import FunctionTransformer\n",
    "def add_ten(x):\n",
    "    return x + 10\n",
    "\n",
    "ten_transform = FunctionTransformer(add_ten)\n",
    "\n",
    "ten_transform.transform(x)"
   ]
  },
  {
   "cell_type": "code",
   "execution_count": 18,
   "metadata": {},
   "outputs": [
    {
     "data": {
      "text/plain": [
       "array([-1,  1,  1,  1,  1,  1,  1,  1,  1,  1])"
      ]
     },
     "execution_count": 18,
     "metadata": {},
     "output_type": "execute_result"
    }
   ],
   "source": [
    "# Detecting Outliers\n",
    "from sklearn.datasets import make_blobs\n",
    "from sklearn.covariance import EllipticEnvelope\n",
    "\n",
    "features, _ = make_blobs(n_samples=10,\n",
    "                         n_features=2,\n",
    "                         centers= 1,\n",
    "                         random_state=1)\n",
    "\n",
    "features[0,0] = 1000\n",
    "features[0,1] = 1000\n",
    "\n",
    "outlier_detector = EllipticEnvelope(contamination=.1)\n",
    "\n",
    "outlier_detector.fit(features)\n",
    "\n",
    "outlier_detector.predict(features)"
   ]
  },
  {
   "cell_type": "code",
   "execution_count": null,
   "metadata": {},
   "outputs": [],
   "source": []
  }
 ],
 "metadata": {
  "anaconda-cloud": {},
  "kernelspec": {
   "display_name": "Python [conda env:anaconda]",
   "language": "python",
   "name": "conda-env-anaconda-py"
  },
  "language_info": {
   "codemirror_mode": {
    "name": "ipython",
    "version": 2
   },
   "file_extension": ".py",
   "mimetype": "text/x-python",
   "name": "python",
   "nbconvert_exporter": "python",
   "pygments_lexer": "ipython2",
   "version": "2.7.15"
  }
 },
 "nbformat": 4,
 "nbformat_minor": 1
}
