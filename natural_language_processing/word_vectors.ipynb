{
 "cells": [
  {
   "cell_type": "markdown",
   "metadata": {},
   "source": [
    "## Distributed Word Vectors"
   ]
  },
  {
   "cell_type": "markdown",
   "metadata": {},
   "source": [
    "### Preparing the data"
   ]
  },
  {
   "cell_type": "code",
   "execution_count": 2,
   "metadata": {},
   "outputs": [
    {
     "name": "stdout",
     "output_type": "stream",
     "text": [
      "Read 25000 labeled train reviews, 25000 labeled test reviews, and 50000 unlabeled reviews\n",
      "\n"
     ]
    }
   ],
   "source": [
    "import pandas as pd\n",
    "\n",
    "train = pd.read_csv('data/labeledTrainData.tsv', header=0, delimiter='\\t', quoting=3)\n",
    "test = pd.read_csv('data/testData.tsv', header=0, delimiter='\\t', quoting=3)\n",
    "\n",
    "# unlabeled data\n",
    "unlabeled_train = pd.read_csv('data/unlabeledTrainData.tsv', header=0, delimiter='\\t', quoting=3)\n",
    "\n",
    "print(\"Read %d labeled train reviews, %d labeled test reviews, \" \\\n",
    " \"and %d unlabeled reviews\\n\" % (train[\"review\"].size,  \n",
    " test[\"review\"].size, unlabeled_train[\"review\"].size ))"
   ]
  },
  {
   "cell_type": "code",
   "execution_count": 8,
   "metadata": {},
   "outputs": [],
   "source": [
    "# Import various modules for string cleaning\n",
    "from bs4 import BeautifulSoup\n",
    "import re\n",
    "from nltk.corpus import stopwords\n",
    "\n",
    "def review_to_wordlist( review, remove_stopwords=False ):\n",
    "    # Function to convert a document to a sequence of words,\n",
    "    # optionally removing stop words.  Returns a list of words.\n",
    "    #\n",
    "    # 1. Remove HTML\n",
    "    review_text = BeautifulSoup(review).get_text()\n",
    "    #  \n",
    "    # 2. Remove non-letters\n",
    "    review_text = re.sub(\"[^a-zA-Z]\",\" \", review_text)\n",
    "    #\n",
    "    # 3. Convert words to lower case and split them\n",
    "    words = review_text.lower().split()\n",
    "    #\n",
    "    # 4. Optionally remove stop words (false by default)\n",
    "    if remove_stopwords:\n",
    "        stops = set(stopwords.words(\"english\"))\n",
    "        words = [w for w in words if not w in stops]\n",
    "    #\n",
    "    # 5. Return a list of words\n",
    "    return(words)"
   ]
  },
  {
   "cell_type": "code",
   "execution_count": 9,
   "metadata": {},
   "outputs": [
    {
     "name": "stdout",
     "output_type": "stream",
     "text": [
      "showing info https://raw.githubusercontent.com/nltk/nltk_data/gh-pages/index.xml\n"
     ]
    }
   ],
   "source": [
    "# Download the punkt tokenizer for sentence splitting\n",
    "import nltk.data\n",
    "nltk.download()   \n",
    "\n",
    "# Load the punkt tokenizer\n",
    "tokenizer = nltk.data.load('tokenizers/punkt/english.pickle')\n",
    "\n",
    "# Define a function to split a review into parsed sentences\n",
    "def review_to_sentences( review, tokenizer, remove_stopwords=False ):\n",
    "    # Function to split a review into parsed sentences. Returns a \n",
    "    # list of sentences, where each sentence is a list of words\n",
    "    #\n",
    "    # 1. Use the NLTK tokenizer to split the paragraph into sentences\n",
    "    raw_sentences = tokenizer.tokenize(review.strip())\n",
    "    #\n",
    "    # 2. Loop over each sentence\n",
    "    sentences = []\n",
    "    for raw_sentence in raw_sentences:\n",
    "        # If a sentence is empty, skip it\n",
    "        if len(raw_sentence) > 0:\n",
    "            # Otherwise, call review_to_wordlist to get a list of words\n",
    "            sentences.append( review_to_wordlist( raw_sentence, \\\n",
    "              remove_stopwords ))\n",
    "    #\n",
    "    # Return the list of sentences (each sentence is a list of words,\n",
    "    # so this returns a list of lists\n",
    "    return sentences"
   ]
  },
  {
   "cell_type": "code",
   "execution_count": 11,
   "metadata": {},
   "outputs": [
    {
     "name": "stdout",
     "output_type": "stream",
     "text": [
      "Parsing sentences from training set\n"
     ]
    },
    {
     "name": "stderr",
     "output_type": "stream",
     "text": [
      "/Users/ujjawalpathak/anaconda3/lib/python3.7/site-packages/bs4/__init__.py:272: UserWarning: \"b'.'\" looks like a filename, not markup. You should probably open this file and pass the filehandle into Beautiful Soup.\n",
      "  ' Beautiful Soup.' % markup)\n",
      "/Users/ujjawalpathak/anaconda3/lib/python3.7/site-packages/bs4/__init__.py:335: UserWarning: \"http://www.happierabroad.com\"\" looks like a URL. Beautiful Soup is not an HTTP client. You should probably use an HTTP client like requests to get the document behind the URL, and feed that document to Beautiful Soup.\n",
      "  ' that document to Beautiful Soup.' % decoded_markup\n"
     ]
    },
    {
     "name": "stdout",
     "output_type": "stream",
     "text": [
      "Parsing sentences from unlabeled set\n"
     ]
    },
    {
     "name": "stderr",
     "output_type": "stream",
     "text": [
      "/Users/ujjawalpathak/anaconda3/lib/python3.7/site-packages/bs4/__init__.py:335: UserWarning: \"http://www.archive.org/details/LovefromaStranger\"\" looks like a URL. Beautiful Soup is not an HTTP client. You should probably use an HTTP client like requests to get the document behind the URL, and feed that document to Beautiful Soup.\n",
      "  ' that document to Beautiful Soup.' % decoded_markup\n",
      "/Users/ujjawalpathak/anaconda3/lib/python3.7/site-packages/bs4/__init__.py:335: UserWarning: \"http://www.loosechangeguide.com/LooseChangeGuide.html\"\" looks like a URL. Beautiful Soup is not an HTTP client. You should probably use an HTTP client like requests to get the document behind the URL, and feed that document to Beautiful Soup.\n",
      "  ' that document to Beautiful Soup.' % decoded_markup\n",
      "/Users/ujjawalpathak/anaconda3/lib/python3.7/site-packages/bs4/__init__.py:335: UserWarning: \"http://www.msnbc.msn.com/id/4972055/site/newsweek/\"\" looks like a URL. Beautiful Soup is not an HTTP client. You should probably use an HTTP client like requests to get the document behind the URL, and feed that document to Beautiful Soup.\n",
      "  ' that document to Beautiful Soup.' % decoded_markup\n",
      "/Users/ujjawalpathak/anaconda3/lib/python3.7/site-packages/bs4/__init__.py:272: UserWarning: \"b'..'\" looks like a filename, not markup. You should probably open this file and pass the filehandle into Beautiful Soup.\n",
      "  ' Beautiful Soup.' % markup)\n",
      "/Users/ujjawalpathak/anaconda3/lib/python3.7/site-packages/bs4/__init__.py:335: UserWarning: \"http://www.youtube.com/watch?v=a0KSqelmgN8\"\" looks like a URL. Beautiful Soup is not an HTTP client. You should probably use an HTTP client like requests to get the document behind the URL, and feed that document to Beautiful Soup.\n",
      "  ' that document to Beautiful Soup.' % decoded_markup\n",
      "/Users/ujjawalpathak/anaconda3/lib/python3.7/site-packages/bs4/__init__.py:335: UserWarning: \"http://jake-weird.blogspot.com/2007/08/beneath.html\"\" looks like a URL. Beautiful Soup is not an HTTP client. You should probably use an HTTP client like requests to get the document behind the URL, and feed that document to Beautiful Soup.\n",
      "  ' that document to Beautiful Soup.' % decoded_markup\n"
     ]
    }
   ],
   "source": [
    "sentences = []  # Initialize an empty list of sentences\n",
    "\n",
    "print(\"Parsing sentences from training set\")\n",
    "for review in train[\"review\"]:\n",
    "    sentences += review_to_sentences(review, tokenizer)\n",
    "\n",
    "print(\"Parsing sentences from unlabeled set\")\n",
    "for review in unlabeled_train[\"review\"]:\n",
    "    sentences += review_to_sentences(review, tokenizer)"
   ]
  },
  {
   "cell_type": "markdown",
   "metadata": {},
   "source": [
    "### Training and Saving The Model"
   ]
  },
  {
   "cell_type": "code",
   "execution_count": 12,
   "metadata": {
    "scrolled": false
   },
   "outputs": [
    {
     "name": "stderr",
     "output_type": "stream",
     "text": [
      "2019-12-05 13:55:29,936 : INFO : collecting all words and their counts\n",
      "2019-12-05 13:55:29,939 : INFO : PROGRESS: at sentence #0, processed 0 words, keeping 0 word types\n",
      "2019-12-05 13:55:30,086 : INFO : PROGRESS: at sentence #10000, processed 225803 words, keeping 17776 word types\n"
     ]
    },
    {
     "name": "stdout",
     "output_type": "stream",
     "text": [
      "Training models...\n"
     ]
    },
    {
     "name": "stderr",
     "output_type": "stream",
     "text": [
      "2019-12-05 13:55:30,197 : INFO : PROGRESS: at sentence #20000, processed 451892 words, keeping 24948 word types\n",
      "2019-12-05 13:55:30,314 : INFO : PROGRESS: at sentence #30000, processed 671315 words, keeping 30034 word types\n",
      "2019-12-05 13:55:30,420 : INFO : PROGRESS: at sentence #40000, processed 897815 words, keeping 34348 word types\n",
      "2019-12-05 13:55:30,553 : INFO : PROGRESS: at sentence #50000, processed 1116963 words, keeping 37761 word types\n",
      "2019-12-05 13:55:30,705 : INFO : PROGRESS: at sentence #60000, processed 1338404 words, keeping 40723 word types\n",
      "2019-12-05 13:55:30,826 : INFO : PROGRESS: at sentence #70000, processed 1561580 words, keeping 43333 word types\n",
      "2019-12-05 13:55:30,944 : INFO : PROGRESS: at sentence #80000, processed 1780887 words, keeping 45714 word types\n",
      "2019-12-05 13:55:31,082 : INFO : PROGRESS: at sentence #90000, processed 2004996 words, keeping 48135 word types\n",
      "2019-12-05 13:55:31,249 : INFO : PROGRESS: at sentence #100000, processed 2226966 words, keeping 50207 word types\n",
      "2019-12-05 13:55:31,449 : INFO : PROGRESS: at sentence #110000, processed 2446580 words, keeping 52081 word types\n",
      "2019-12-05 13:55:31,593 : INFO : PROGRESS: at sentence #120000, processed 2668775 words, keeping 54119 word types\n",
      "2019-12-05 13:55:31,733 : INFO : PROGRESS: at sentence #130000, processed 2894303 words, keeping 55847 word types\n",
      "2019-12-05 13:55:31,850 : INFO : PROGRESS: at sentence #140000, processed 3107005 words, keeping 57346 word types\n",
      "2019-12-05 13:55:31,968 : INFO : PROGRESS: at sentence #150000, processed 3332627 words, keeping 59055 word types\n",
      "2019-12-05 13:55:32,085 : INFO : PROGRESS: at sentence #160000, processed 3555315 words, keeping 60617 word types\n",
      "2019-12-05 13:55:32,311 : INFO : PROGRESS: at sentence #170000, processed 3778655 words, keeping 62077 word types\n",
      "2019-12-05 13:55:32,471 : INFO : PROGRESS: at sentence #180000, processed 3999236 words, keeping 63496 word types\n",
      "2019-12-05 13:55:32,589 : INFO : PROGRESS: at sentence #190000, processed 4224449 words, keeping 64794 word types\n",
      "2019-12-05 13:55:32,709 : INFO : PROGRESS: at sentence #200000, processed 4448603 words, keeping 66087 word types\n",
      "2019-12-05 13:55:32,828 : INFO : PROGRESS: at sentence #210000, processed 4669967 words, keeping 67390 word types\n",
      "2019-12-05 13:55:32,942 : INFO : PROGRESS: at sentence #220000, processed 4894968 words, keeping 68697 word types\n",
      "2019-12-05 13:55:33,088 : INFO : PROGRESS: at sentence #230000, processed 5117545 words, keeping 69958 word types\n",
      "2019-12-05 13:55:33,230 : INFO : PROGRESS: at sentence #240000, processed 5345050 words, keeping 71167 word types\n",
      "2019-12-05 13:55:33,331 : INFO : PROGRESS: at sentence #250000, processed 5559165 words, keeping 72351 word types\n",
      "2019-12-05 13:55:33,444 : INFO : PROGRESS: at sentence #260000, processed 5779146 words, keeping 73478 word types\n",
      "2019-12-05 13:55:33,562 : INFO : PROGRESS: at sentence #270000, processed 6000435 words, keeping 74767 word types\n",
      "2019-12-05 13:55:33,689 : INFO : PROGRESS: at sentence #280000, processed 6226314 words, keeping 76369 word types\n",
      "2019-12-05 13:55:33,799 : INFO : PROGRESS: at sentence #290000, processed 6449474 words, keeping 77839 word types\n",
      "2019-12-05 13:55:33,916 : INFO : PROGRESS: at sentence #300000, processed 6674077 words, keeping 79171 word types\n",
      "2019-12-05 13:55:34,033 : INFO : PROGRESS: at sentence #310000, processed 6899391 words, keeping 80480 word types\n",
      "2019-12-05 13:55:34,146 : INFO : PROGRESS: at sentence #320000, processed 7124278 words, keeping 81808 word types\n",
      "2019-12-05 13:55:34,256 : INFO : PROGRESS: at sentence #330000, processed 7346021 words, keeping 83030 word types\n",
      "2019-12-05 13:55:34,372 : INFO : PROGRESS: at sentence #340000, processed 7575533 words, keeping 84280 word types\n",
      "2019-12-05 13:55:34,486 : INFO : PROGRESS: at sentence #350000, processed 7798803 words, keeping 85425 word types\n",
      "2019-12-05 13:55:34,595 : INFO : PROGRESS: at sentence #360000, processed 8019427 words, keeping 86596 word types\n",
      "2019-12-05 13:55:34,712 : INFO : PROGRESS: at sentence #370000, processed 8246619 words, keeping 87708 word types\n",
      "2019-12-05 13:55:34,823 : INFO : PROGRESS: at sentence #380000, processed 8471766 words, keeping 88878 word types\n",
      "2019-12-05 13:55:34,934 : INFO : PROGRESS: at sentence #390000, processed 8701497 words, keeping 89907 word types\n",
      "2019-12-05 13:55:35,048 : INFO : PROGRESS: at sentence #400000, processed 8924446 words, keeping 90916 word types\n",
      "2019-12-05 13:55:35,161 : INFO : PROGRESS: at sentence #410000, processed 9145796 words, keeping 91880 word types\n",
      "2019-12-05 13:55:35,263 : INFO : PROGRESS: at sentence #420000, processed 9366876 words, keeping 92912 word types\n",
      "2019-12-05 13:55:35,369 : INFO : PROGRESS: at sentence #430000, processed 9594413 words, keeping 93932 word types\n",
      "2019-12-05 13:55:35,499 : INFO : PROGRESS: at sentence #440000, processed 9821166 words, keeping 94906 word types\n",
      "2019-12-05 13:55:35,631 : INFO : PROGRESS: at sentence #450000, processed 10044928 words, keeping 96036 word types\n",
      "2019-12-05 13:55:35,757 : INFO : PROGRESS: at sentence #460000, processed 10277688 words, keeping 97088 word types\n",
      "2019-12-05 13:55:35,886 : INFO : PROGRESS: at sentence #470000, processed 10505613 words, keeping 97933 word types\n",
      "2019-12-05 13:55:36,003 : INFO : PROGRESS: at sentence #480000, processed 10725997 words, keeping 98862 word types\n",
      "2019-12-05 13:55:36,123 : INFO : PROGRESS: at sentence #490000, processed 10952741 words, keeping 99871 word types\n",
      "2019-12-05 13:55:36,230 : INFO : PROGRESS: at sentence #500000, processed 11174397 words, keeping 100765 word types\n",
      "2019-12-05 13:55:36,344 : INFO : PROGRESS: at sentence #510000, processed 11399672 words, keeping 101699 word types\n",
      "2019-12-05 13:55:36,453 : INFO : PROGRESS: at sentence #520000, processed 11623020 words, keeping 102598 word types\n",
      "2019-12-05 13:55:36,570 : INFO : PROGRESS: at sentence #530000, processed 11847418 words, keeping 103400 word types\n",
      "2019-12-05 13:55:36,681 : INFO : PROGRESS: at sentence #540000, processed 12072033 words, keeping 104265 word types\n",
      "2019-12-05 13:55:36,788 : INFO : PROGRESS: at sentence #550000, processed 12297571 words, keeping 105133 word types\n",
      "2019-12-05 13:55:36,903 : INFO : PROGRESS: at sentence #560000, processed 12518861 words, keeping 105997 word types\n",
      "2019-12-05 13:55:37,023 : INFO : PROGRESS: at sentence #570000, processed 12747916 words, keeping 106787 word types\n",
      "2019-12-05 13:55:37,137 : INFO : PROGRESS: at sentence #580000, processed 12969412 words, keeping 107665 word types\n",
      "2019-12-05 13:55:37,257 : INFO : PROGRESS: at sentence #590000, processed 13194937 words, keeping 108501 word types\n",
      "2019-12-05 13:55:37,361 : INFO : PROGRESS: at sentence #600000, processed 13417135 words, keeping 109218 word types\n",
      "2019-12-05 13:55:37,477 : INFO : PROGRESS: at sentence #610000, processed 13638158 words, keeping 110092 word types\n",
      "2019-12-05 13:55:37,584 : INFO : PROGRESS: at sentence #620000, processed 13864483 words, keeping 110837 word types\n",
      "2019-12-05 13:55:37,694 : INFO : PROGRESS: at sentence #630000, processed 14088769 words, keeping 111610 word types\n",
      "2019-12-05 13:55:37,802 : INFO : PROGRESS: at sentence #640000, processed 14309552 words, keeping 112416 word types\n",
      "2019-12-05 13:55:37,924 : INFO : PROGRESS: at sentence #650000, processed 14535308 words, keeping 113196 word types\n",
      "2019-12-05 13:55:38,036 : INFO : PROGRESS: at sentence #660000, processed 14758098 words, keeping 113945 word types\n",
      "2019-12-05 13:55:38,150 : INFO : PROGRESS: at sentence #670000, processed 14981482 words, keeping 114643 word types\n",
      "2019-12-05 13:55:38,264 : INFO : PROGRESS: at sentence #680000, processed 15206314 words, keeping 115354 word types\n",
      "2019-12-05 13:55:38,426 : INFO : PROGRESS: at sentence #690000, processed 15428507 words, keeping 116131 word types\n",
      "2019-12-05 13:55:38,535 : INFO : PROGRESS: at sentence #700000, processed 15657213 words, keeping 116943 word types\n",
      "2019-12-05 13:55:38,642 : INFO : PROGRESS: at sentence #710000, processed 15880202 words, keeping 117596 word types\n",
      "2019-12-05 13:55:38,748 : INFO : PROGRESS: at sentence #720000, processed 16105489 words, keeping 118221 word types\n",
      "2019-12-05 13:55:38,848 : INFO : PROGRESS: at sentence #730000, processed 16331870 words, keeping 118954 word types\n"
     ]
    },
    {
     "name": "stderr",
     "output_type": "stream",
     "text": [
      "2019-12-05 13:55:38,949 : INFO : PROGRESS: at sentence #740000, processed 16552903 words, keeping 119668 word types\n",
      "2019-12-05 13:55:39,054 : INFO : PROGRESS: at sentence #750000, processed 16771230 words, keeping 120295 word types\n",
      "2019-12-05 13:55:39,153 : INFO : PROGRESS: at sentence #760000, processed 16990622 words, keeping 120930 word types\n",
      "2019-12-05 13:55:39,257 : INFO : PROGRESS: at sentence #770000, processed 17217759 words, keeping 121703 word types\n",
      "2019-12-05 13:55:39,360 : INFO : PROGRESS: at sentence #780000, processed 17447905 words, keeping 122402 word types\n",
      "2019-12-05 13:55:39,466 : INFO : PROGRESS: at sentence #790000, processed 17674981 words, keeping 123066 word types\n",
      "2019-12-05 13:55:39,527 : INFO : collected 123504 word types from a corpus of 17798082 raw words and 795538 sentences\n",
      "2019-12-05 13:55:39,529 : INFO : Loading a fresh vocabulary\n",
      "2019-12-05 13:55:39,706 : INFO : effective_min_count=40 retains 16490 unique words (13% of original 123504, drops 107014)\n",
      "2019-12-05 13:55:39,707 : INFO : effective_min_count=40 leaves 17238940 word corpus (96% of original 17798082, drops 559142)\n",
      "2019-12-05 13:55:39,795 : INFO : deleting the raw counts dictionary of 123504 items\n",
      "2019-12-05 13:55:39,804 : INFO : sample=0.001 downsamples 48 most-common words\n",
      "2019-12-05 13:55:39,806 : INFO : downsampling leaves estimated 12749658 word corpus (74.0% of prior 17238940)\n",
      "2019-12-05 13:55:39,906 : INFO : estimated required memory for 16490 words and 300 dimensions: 47821000 bytes\n",
      "2019-12-05 13:55:39,908 : INFO : resetting layer weights\n",
      "2019-12-05 13:55:40,237 : INFO : training model with 4 workers on 16490 vocabulary and 300 features, using sg=0 hs=0 sample=0.001 negative=5 window=10\n",
      "2019-12-05 13:55:41,271 : INFO : EPOCH 1 - PROGRESS: at 3.42% examples, 431159 words/s, in_qsize 7, out_qsize 0\n",
      "2019-12-05 13:55:42,322 : INFO : EPOCH 1 - PROGRESS: at 5.37% examples, 332711 words/s, in_qsize 7, out_qsize 0\n",
      "2019-12-05 13:55:43,360 : INFO : EPOCH 1 - PROGRESS: at 8.00% examples, 327249 words/s, in_qsize 7, out_qsize 0\n",
      "2019-12-05 13:55:44,445 : INFO : EPOCH 1 - PROGRESS: at 11.32% examples, 343259 words/s, in_qsize 5, out_qsize 2\n",
      "2019-12-05 13:55:45,454 : INFO : EPOCH 1 - PROGRESS: at 14.45% examples, 352395 words/s, in_qsize 7, out_qsize 0\n",
      "2019-12-05 13:55:46,468 : INFO : EPOCH 1 - PROGRESS: at 18.19% examples, 370815 words/s, in_qsize 7, out_qsize 0\n",
      "2019-12-05 13:55:47,501 : INFO : EPOCH 1 - PROGRESS: at 21.07% examples, 368278 words/s, in_qsize 7, out_qsize 0\n",
      "2019-12-05 13:55:48,516 : INFO : EPOCH 1 - PROGRESS: at 23.70% examples, 363748 words/s, in_qsize 8, out_qsize 1\n",
      "2019-12-05 13:55:49,540 : INFO : EPOCH 1 - PROGRESS: at 26.41% examples, 360642 words/s, in_qsize 7, out_qsize 0\n",
      "2019-12-05 13:55:50,541 : INFO : EPOCH 1 - PROGRESS: at 29.58% examples, 365107 words/s, in_qsize 7, out_qsize 0\n",
      "2019-12-05 13:55:51,556 : INFO : EPOCH 1 - PROGRESS: at 33.26% examples, 372761 words/s, in_qsize 8, out_qsize 0\n",
      "2019-12-05 13:55:52,581 : INFO : EPOCH 1 - PROGRESS: at 37.01% examples, 380617 words/s, in_qsize 7, out_qsize 0\n",
      "2019-12-05 13:55:53,588 : INFO : EPOCH 1 - PROGRESS: at 40.86% examples, 388887 words/s, in_qsize 7, out_qsize 0\n",
      "2019-12-05 13:55:54,607 : INFO : EPOCH 1 - PROGRESS: at 44.68% examples, 395186 words/s, in_qsize 7, out_qsize 0\n",
      "2019-12-05 13:55:55,620 : INFO : EPOCH 1 - PROGRESS: at 48.43% examples, 400768 words/s, in_qsize 6, out_qsize 1\n",
      "2019-12-05 13:55:56,622 : INFO : EPOCH 1 - PROGRESS: at 52.27% examples, 405974 words/s, in_qsize 7, out_qsize 0\n",
      "2019-12-05 13:55:57,644 : INFO : EPOCH 1 - PROGRESS: at 56.11% examples, 410469 words/s, in_qsize 6, out_qsize 1\n",
      "2019-12-05 13:55:58,661 : INFO : EPOCH 1 - PROGRESS: at 59.89% examples, 414583 words/s, in_qsize 6, out_qsize 1\n",
      "2019-12-05 13:55:59,670 : INFO : EPOCH 1 - PROGRESS: at 63.78% examples, 418469 words/s, in_qsize 7, out_qsize 0\n",
      "2019-12-05 13:56:00,683 : INFO : EPOCH 1 - PROGRESS: at 67.12% examples, 418729 words/s, in_qsize 8, out_qsize 0\n",
      "2019-12-05 13:56:01,695 : INFO : EPOCH 1 - PROGRESS: at 70.77% examples, 420675 words/s, in_qsize 7, out_qsize 0\n",
      "2019-12-05 13:56:02,707 : INFO : EPOCH 1 - PROGRESS: at 73.23% examples, 415742 words/s, in_qsize 7, out_qsize 0\n",
      "2019-12-05 13:56:03,717 : INFO : EPOCH 1 - PROGRESS: at 75.02% examples, 407577 words/s, in_qsize 7, out_qsize 0\n",
      "2019-12-05 13:56:04,738 : INFO : EPOCH 1 - PROGRESS: at 77.55% examples, 403734 words/s, in_qsize 6, out_qsize 1\n",
      "2019-12-05 13:56:05,751 : INFO : EPOCH 1 - PROGRESS: at 80.03% examples, 400028 words/s, in_qsize 7, out_qsize 0\n",
      "2019-12-05 13:56:06,764 : INFO : EPOCH 1 - PROGRESS: at 83.56% examples, 401738 words/s, in_qsize 7, out_qsize 1\n",
      "2019-12-05 13:56:07,773 : INFO : EPOCH 1 - PROGRESS: at 86.42% examples, 400259 words/s, in_qsize 7, out_qsize 0\n",
      "2019-12-05 13:56:08,807 : INFO : EPOCH 1 - PROGRESS: at 89.85% examples, 401291 words/s, in_qsize 7, out_qsize 0\n",
      "2019-12-05 13:56:09,825 : INFO : EPOCH 1 - PROGRESS: at 93.80% examples, 404407 words/s, in_qsize 7, out_qsize 0\n",
      "2019-12-05 13:56:10,834 : INFO : EPOCH 1 - PROGRESS: at 97.67% examples, 407191 words/s, in_qsize 7, out_qsize 0\n",
      "2019-12-05 13:56:11,397 : INFO : worker thread finished; awaiting finish of 3 more threads\n",
      "2019-12-05 13:56:11,406 : INFO : worker thread finished; awaiting finish of 2 more threads\n",
      "2019-12-05 13:56:11,425 : INFO : worker thread finished; awaiting finish of 1 more threads\n",
      "2019-12-05 13:56:11,432 : INFO : worker thread finished; awaiting finish of 0 more threads\n",
      "2019-12-05 13:56:11,433 : INFO : EPOCH - 1 : training on 17798082 raw words (12749793 effective words) took 31.2s, 409005 effective words/s\n",
      "2019-12-05 13:56:12,460 : INFO : EPOCH 2 - PROGRESS: at 3.48% examples, 437407 words/s, in_qsize 7, out_qsize 0\n",
      "2019-12-05 13:56:13,462 : INFO : EPOCH 2 - PROGRESS: at 7.24% examples, 457314 words/s, in_qsize 7, out_qsize 0\n",
      "2019-12-05 13:56:14,480 : INFO : EPOCH 2 - PROGRESS: at 10.92% examples, 457165 words/s, in_qsize 8, out_qsize 0\n",
      "2019-12-05 13:56:15,494 : INFO : EPOCH 2 - PROGRESS: at 14.83% examples, 464735 words/s, in_qsize 8, out_qsize 1\n",
      "2019-12-05 13:56:16,515 : INFO : EPOCH 2 - PROGRESS: at 18.81% examples, 469766 words/s, in_qsize 7, out_qsize 0\n",
      "2019-12-05 13:56:17,527 : INFO : EPOCH 2 - PROGRESS: at 22.76% examples, 473905 words/s, in_qsize 7, out_qsize 0\n",
      "2019-12-05 13:56:18,586 : INFO : EPOCH 2 - PROGRESS: at 25.34% examples, 449676 words/s, in_qsize 7, out_qsize 0\n",
      "2019-12-05 13:56:19,593 : INFO : EPOCH 2 - PROGRESS: at 28.31% examples, 440560 words/s, in_qsize 7, out_qsize 0\n",
      "2019-12-05 13:56:20,602 : INFO : EPOCH 2 - PROGRESS: at 31.14% examples, 431012 words/s, in_qsize 6, out_qsize 1\n",
      "2019-12-05 13:56:21,614 : INFO : EPOCH 2 - PROGRESS: at 34.70% examples, 432370 words/s, in_qsize 7, out_qsize 0\n",
      "2019-12-05 13:56:22,618 : INFO : EPOCH 2 - PROGRESS: at 38.18% examples, 433220 words/s, in_qsize 7, out_qsize 0\n",
      "2019-12-05 13:56:23,629 : INFO : EPOCH 2 - PROGRESS: at 41.98% examples, 437161 words/s, in_qsize 7, out_qsize 0\n",
      "2019-12-05 13:56:24,640 : INFO : EPOCH 2 - PROGRESS: at 45.89% examples, 441567 words/s, in_qsize 7, out_qsize 1\n",
      "2019-12-05 13:56:25,652 : INFO : EPOCH 2 - PROGRESS: at 48.99% examples, 438311 words/s, in_qsize 6, out_qsize 1\n",
      "2019-12-05 13:56:26,668 : INFO : EPOCH 2 - PROGRESS: at 52.21% examples, 435816 words/s, in_qsize 7, out_qsize 0\n",
      "2019-12-05 13:56:27,674 : INFO : EPOCH 2 - PROGRESS: at 54.99% examples, 430795 words/s, in_qsize 7, out_qsize 0\n",
      "2019-12-05 13:56:28,683 : INFO : EPOCH 2 - PROGRESS: at 57.79% examples, 426699 words/s, in_qsize 8, out_qsize 0\n",
      "2019-12-05 13:56:29,711 : INFO : EPOCH 2 - PROGRESS: at 61.24% examples, 426975 words/s, in_qsize 7, out_qsize 0\n",
      "2019-12-05 13:56:30,720 : INFO : EPOCH 2 - PROGRESS: at 64.95% examples, 429109 words/s, in_qsize 7, out_qsize 0\n",
      "2019-12-05 13:56:31,856 : INFO : EPOCH 2 - PROGRESS: at 68.66% examples, 428362 words/s, in_qsize 7, out_qsize 0\n",
      "2019-12-05 13:56:32,858 : INFO : EPOCH 2 - PROGRESS: at 72.32% examples, 430363 words/s, in_qsize 8, out_qsize 0\n",
      "2019-12-05 13:56:33,916 : INFO : EPOCH 2 - PROGRESS: at 74.63% examples, 423155 words/s, in_qsize 7, out_qsize 0\n",
      "2019-12-05 13:56:34,929 : INFO : EPOCH 2 - PROGRESS: at 77.66% examples, 421348 words/s, in_qsize 7, out_qsize 0\n"
     ]
    },
    {
     "name": "stderr",
     "output_type": "stream",
     "text": [
      "2019-12-05 13:56:35,985 : INFO : EPOCH 2 - PROGRESS: at 80.15% examples, 416036 words/s, in_qsize 8, out_qsize 0\n",
      "2019-12-05 13:56:36,993 : INFO : EPOCH 2 - PROGRESS: at 82.67% examples, 412217 words/s, in_qsize 7, out_qsize 0\n",
      "2019-12-05 13:56:38,017 : INFO : EPOCH 2 - PROGRESS: at 85.05% examples, 407916 words/s, in_qsize 8, out_qsize 0\n",
      "2019-12-05 13:56:39,026 : INFO : EPOCH 2 - PROGRESS: at 88.13% examples, 407263 words/s, in_qsize 8, out_qsize 0\n",
      "2019-12-05 13:56:40,027 : INFO : EPOCH 2 - PROGRESS: at 91.87% examples, 409763 words/s, in_qsize 7, out_qsize 0\n",
      "2019-12-05 13:56:41,033 : INFO : EPOCH 2 - PROGRESS: at 95.71% examples, 412024 words/s, in_qsize 7, out_qsize 0\n",
      "2019-12-05 13:56:42,045 : INFO : EPOCH 2 - PROGRESS: at 99.44% examples, 414314 words/s, in_qsize 7, out_qsize 0\n",
      "2019-12-05 13:56:42,149 : INFO : worker thread finished; awaiting finish of 3 more threads\n",
      "2019-12-05 13:56:42,161 : INFO : worker thread finished; awaiting finish of 2 more threads\n",
      "2019-12-05 13:56:42,168 : INFO : worker thread finished; awaiting finish of 1 more threads\n",
      "2019-12-05 13:56:42,175 : INFO : worker thread finished; awaiting finish of 0 more threads\n",
      "2019-12-05 13:56:42,176 : INFO : EPOCH - 2 : training on 17798082 raw words (12748265 effective words) took 30.7s, 414841 effective words/s\n",
      "2019-12-05 13:56:43,197 : INFO : EPOCH 3 - PROGRESS: at 3.87% examples, 490547 words/s, in_qsize 7, out_qsize 0\n",
      "2019-12-05 13:56:44,198 : INFO : EPOCH 3 - PROGRESS: at 7.88% examples, 498429 words/s, in_qsize 7, out_qsize 0\n",
      "2019-12-05 13:56:45,202 : INFO : EPOCH 3 - PROGRESS: at 11.79% examples, 496212 words/s, in_qsize 7, out_qsize 0\n",
      "2019-12-05 13:56:46,212 : INFO : EPOCH 3 - PROGRESS: at 15.23% examples, 480123 words/s, in_qsize 7, out_qsize 0\n",
      "2019-12-05 13:56:47,218 : INFO : EPOCH 3 - PROGRESS: at 18.69% examples, 470649 words/s, in_qsize 8, out_qsize 0\n",
      "2019-12-05 13:56:48,219 : INFO : EPOCH 3 - PROGRESS: at 22.37% examples, 469710 words/s, in_qsize 7, out_qsize 0\n",
      "2019-12-05 13:56:49,230 : INFO : EPOCH 3 - PROGRESS: at 25.91% examples, 466185 words/s, in_qsize 8, out_qsize 0\n",
      "2019-12-05 13:56:50,233 : INFO : EPOCH 3 - PROGRESS: at 29.58% examples, 466618 words/s, in_qsize 8, out_qsize 0\n",
      "2019-12-05 13:56:51,243 : INFO : EPOCH 3 - PROGRESS: at 33.26% examples, 465066 words/s, in_qsize 7, out_qsize 0\n",
      "2019-12-05 13:56:52,247 : INFO : EPOCH 3 - PROGRESS: at 36.73% examples, 462674 words/s, in_qsize 8, out_qsize 0\n",
      "2019-12-05 13:56:53,255 : INFO : EPOCH 3 - PROGRESS: at 40.41% examples, 463187 words/s, in_qsize 8, out_qsize 0\n",
      "2019-12-05 13:56:54,257 : INFO : EPOCH 3 - PROGRESS: at 43.98% examples, 462668 words/s, in_qsize 7, out_qsize 0\n",
      "2019-12-05 13:56:55,262 : INFO : EPOCH 3 - PROGRESS: at 47.45% examples, 460989 words/s, in_qsize 7, out_qsize 0\n",
      "2019-12-05 13:56:56,312 : INFO : EPOCH 3 - PROGRESS: at 51.02% examples, 459173 words/s, in_qsize 7, out_qsize 0\n",
      "2019-12-05 13:56:57,317 : INFO : EPOCH 3 - PROGRESS: at 53.93% examples, 453219 words/s, in_qsize 7, out_qsize 0\n",
      "2019-12-05 13:56:58,335 : INFO : EPOCH 3 - PROGRESS: at 56.93% examples, 448569 words/s, in_qsize 7, out_qsize 0\n",
      "2019-12-05 13:56:59,371 : INFO : EPOCH 3 - PROGRESS: at 60.12% examples, 445634 words/s, in_qsize 8, out_qsize 0\n",
      "2019-12-05 13:57:00,372 : INFO : EPOCH 3 - PROGRESS: at 63.22% examples, 442712 words/s, in_qsize 7, out_qsize 0\n",
      "2019-12-05 13:57:01,374 : INFO : EPOCH 3 - PROGRESS: at 66.22% examples, 439720 words/s, in_qsize 7, out_qsize 0\n",
      "2019-12-05 13:57:02,388 : INFO : EPOCH 3 - PROGRESS: at 69.03% examples, 435369 words/s, in_qsize 7, out_qsize 0\n",
      "2019-12-05 13:57:03,388 : INFO : EPOCH 3 - PROGRESS: at 72.20% examples, 434052 words/s, in_qsize 6, out_qsize 0\n",
      "2019-12-05 13:57:04,400 : INFO : EPOCH 3 - PROGRESS: at 74.91% examples, 429729 words/s, in_qsize 7, out_qsize 0\n",
      "2019-12-05 13:57:05,419 : INFO : EPOCH 3 - PROGRESS: at 77.83% examples, 426880 words/s, in_qsize 8, out_qsize 0\n",
      "2019-12-05 13:57:06,443 : INFO : EPOCH 3 - PROGRESS: at 80.99% examples, 425368 words/s, in_qsize 7, out_qsize 0\n",
      "2019-12-05 13:57:07,499 : INFO : EPOCH 3 - PROGRESS: at 84.22% examples, 423999 words/s, in_qsize 7, out_qsize 0\n",
      "2019-12-05 13:57:08,503 : INFO : EPOCH 3 - PROGRESS: at 87.42% examples, 423319 words/s, in_qsize 7, out_qsize 0\n",
      "2019-12-05 13:57:09,516 : INFO : EPOCH 3 - PROGRESS: at 90.31% examples, 421225 words/s, in_qsize 7, out_qsize 0\n",
      "2019-12-05 13:57:10,556 : INFO : EPOCH 3 - PROGRESS: at 93.12% examples, 418397 words/s, in_qsize 7, out_qsize 0\n",
      "2019-12-05 13:57:11,557 : INFO : EPOCH 3 - PROGRESS: at 96.03% examples, 416555 words/s, in_qsize 8, out_qsize 0\n",
      "2019-12-05 13:57:12,602 : INFO : EPOCH 3 - PROGRESS: at 98.71% examples, 413760 words/s, in_qsize 6, out_qsize 1\n",
      "2019-12-05 13:57:13,229 : INFO : worker thread finished; awaiting finish of 3 more threads\n",
      "2019-12-05 13:57:13,243 : INFO : worker thread finished; awaiting finish of 2 more threads\n",
      "2019-12-05 13:57:13,300 : INFO : worker thread finished; awaiting finish of 1 more threads\n",
      "2019-12-05 13:57:13,308 : INFO : worker thread finished; awaiting finish of 0 more threads\n",
      "2019-12-05 13:57:13,309 : INFO : EPOCH - 3 : training on 17798082 raw words (12746793 effective words) took 31.1s, 409637 effective words/s\n",
      "2019-12-05 13:57:14,327 : INFO : EPOCH 4 - PROGRESS: at 2.56% examples, 328024 words/s, in_qsize 7, out_qsize 0\n",
      "2019-12-05 13:57:15,334 : INFO : EPOCH 4 - PROGRESS: at 4.81% examples, 306059 words/s, in_qsize 8, out_qsize 1\n",
      "2019-12-05 13:57:16,335 : INFO : EPOCH 4 - PROGRESS: at 7.60% examples, 320499 words/s, in_qsize 7, out_qsize 0\n",
      "2019-12-05 13:57:17,386 : INFO : EPOCH 4 - PROGRESS: at 9.75% examples, 304525 words/s, in_qsize 7, out_qsize 0\n",
      "2019-12-05 13:57:18,402 : INFO : EPOCH 4 - PROGRESS: at 11.95% examples, 298521 words/s, in_qsize 6, out_qsize 1\n",
      "2019-12-05 13:57:19,412 : INFO : EPOCH 4 - PROGRESS: at 15.40% examples, 320756 words/s, in_qsize 7, out_qsize 0\n",
      "2019-12-05 13:57:20,423 : INFO : EPOCH 4 - PROGRESS: at 19.26% examples, 343592 words/s, in_qsize 7, out_qsize 0\n",
      "2019-12-05 13:57:21,425 : INFO : EPOCH 4 - PROGRESS: at 23.04% examples, 360235 words/s, in_qsize 7, out_qsize 0\n",
      "2019-12-05 13:57:22,430 : INFO : EPOCH 4 - PROGRESS: at 26.13% examples, 363663 words/s, in_qsize 8, out_qsize 0\n",
      "2019-12-05 13:57:23,440 : INFO : EPOCH 4 - PROGRESS: at 29.26% examples, 366901 words/s, in_qsize 7, out_qsize 0\n",
      "2019-12-05 13:57:24,442 : INFO : EPOCH 4 - PROGRESS: at 33.32% examples, 379411 words/s, in_qsize 7, out_qsize 0\n",
      "2019-12-05 13:57:25,444 : INFO : EPOCH 4 - PROGRESS: at 37.06% examples, 387528 words/s, in_qsize 8, out_qsize 0\n",
      "2019-12-05 13:57:26,453 : INFO : EPOCH 4 - PROGRESS: at 40.86% examples, 394792 words/s, in_qsize 7, out_qsize 0\n",
      "2019-12-05 13:57:27,474 : INFO : EPOCH 4 - PROGRESS: at 44.68% examples, 400731 words/s, in_qsize 8, out_qsize 0\n",
      "2019-12-05 13:57:28,493 : INFO : EPOCH 4 - PROGRESS: at 48.39% examples, 405386 words/s, in_qsize 7, out_qsize 0\n",
      "2019-12-05 13:57:29,494 : INFO : EPOCH 4 - PROGRESS: at 52.04% examples, 409028 words/s, in_qsize 7, out_qsize 0\n",
      "2019-12-05 13:57:30,496 : INFO : EPOCH 4 - PROGRESS: at 55.89% examples, 413891 words/s, in_qsize 7, out_qsize 0\n",
      "2019-12-05 13:57:31,511 : INFO : EPOCH 4 - PROGRESS: at 59.55% examples, 417115 words/s, in_qsize 8, out_qsize 0\n",
      "2019-12-05 13:57:32,512 : INFO : EPOCH 4 - PROGRESS: at 63.39% examples, 420681 words/s, in_qsize 7, out_qsize 0\n",
      "2019-12-05 13:57:33,513 : INFO : EPOCH 4 - PROGRESS: at 67.12% examples, 423562 words/s, in_qsize 7, out_qsize 0\n",
      "2019-12-05 13:57:34,519 : INFO : EPOCH 4 - PROGRESS: at 70.71% examples, 425089 words/s, in_qsize 7, out_qsize 0\n",
      "2019-12-05 13:57:35,523 : INFO : EPOCH 4 - PROGRESS: at 74.63% examples, 428407 words/s, in_qsize 7, out_qsize 0\n",
      "2019-12-05 13:57:36,535 : INFO : EPOCH 4 - PROGRESS: at 78.43% examples, 430668 words/s, in_qsize 8, out_qsize 0\n",
      "2019-12-05 13:57:37,551 : INFO : EPOCH 4 - PROGRESS: at 82.27% examples, 432698 words/s, in_qsize 8, out_qsize 0\n",
      "2019-12-05 13:57:38,580 : INFO : EPOCH 4 - PROGRESS: at 86.08% examples, 434325 words/s, in_qsize 7, out_qsize 0\n",
      "2019-12-05 13:57:39,591 : INFO : EPOCH 4 - PROGRESS: at 89.91% examples, 436386 words/s, in_qsize 7, out_qsize 0\n",
      "2019-12-05 13:57:40,593 : INFO : EPOCH 4 - PROGRESS: at 93.74% examples, 438187 words/s, in_qsize 7, out_qsize 0\n"
     ]
    },
    {
     "name": "stderr",
     "output_type": "stream",
     "text": [
      "2019-12-05 13:57:41,599 : INFO : EPOCH 4 - PROGRESS: at 97.51% examples, 439532 words/s, in_qsize 7, out_qsize 0\n",
      "2019-12-05 13:57:42,243 : INFO : worker thread finished; awaiting finish of 3 more threads\n",
      "2019-12-05 13:57:42,258 : INFO : worker thread finished; awaiting finish of 2 more threads\n",
      "2019-12-05 13:57:42,288 : INFO : worker thread finished; awaiting finish of 1 more threads\n",
      "2019-12-05 13:57:42,312 : INFO : worker thread finished; awaiting finish of 0 more threads\n",
      "2019-12-05 13:57:42,313 : INFO : EPOCH - 4 : training on 17798082 raw words (12749559 effective words) took 29.0s, 439805 effective words/s\n",
      "2019-12-05 13:57:43,347 : INFO : EPOCH 5 - PROGRESS: at 3.87% examples, 484776 words/s, in_qsize 7, out_qsize 0\n",
      "2019-12-05 13:57:44,355 : INFO : EPOCH 5 - PROGRESS: at 7.83% examples, 490603 words/s, in_qsize 8, out_qsize 0\n",
      "2019-12-05 13:57:45,370 : INFO : EPOCH 5 - PROGRESS: at 11.73% examples, 489239 words/s, in_qsize 8, out_qsize 0\n",
      "2019-12-05 13:57:46,371 : INFO : EPOCH 5 - PROGRESS: at 15.56% examples, 488458 words/s, in_qsize 7, out_qsize 0\n",
      "2019-12-05 13:57:47,385 : INFO : EPOCH 5 - PROGRESS: at 19.38% examples, 485208 words/s, in_qsize 7, out_qsize 0\n",
      "2019-12-05 13:57:48,406 : INFO : EPOCH 5 - PROGRESS: at 22.76% examples, 474299 words/s, in_qsize 7, out_qsize 0\n",
      "2019-12-05 13:57:49,421 : INFO : EPOCH 5 - PROGRESS: at 26.46% examples, 473028 words/s, in_qsize 8, out_qsize 0\n",
      "2019-12-05 13:57:50,421 : INFO : EPOCH 5 - PROGRESS: at 30.15% examples, 472747 words/s, in_qsize 7, out_qsize 0\n",
      "2019-12-05 13:57:51,430 : INFO : EPOCH 5 - PROGRESS: at 33.93% examples, 472155 words/s, in_qsize 7, out_qsize 0\n",
      "2019-12-05 13:57:52,457 : INFO : EPOCH 5 - PROGRESS: at 37.62% examples, 470918 words/s, in_qsize 7, out_qsize 0\n",
      "2019-12-05 13:57:53,460 : INFO : EPOCH 5 - PROGRESS: at 41.31% examples, 470888 words/s, in_qsize 7, out_qsize 0\n",
      "2019-12-05 13:57:54,469 : INFO : EPOCH 5 - PROGRESS: at 45.18% examples, 472420 words/s, in_qsize 7, out_qsize 0\n",
      "2019-12-05 13:57:55,491 : INFO : EPOCH 5 - PROGRESS: at 48.87% examples, 472161 words/s, in_qsize 7, out_qsize 0\n",
      "2019-12-05 13:57:56,498 : INFO : EPOCH 5 - PROGRESS: at 52.60% examples, 471900 words/s, in_qsize 7, out_qsize 0\n",
      "2019-12-05 13:57:57,502 : INFO : EPOCH 5 - PROGRESS: at 56.38% examples, 472699 words/s, in_qsize 7, out_qsize 0\n",
      "2019-12-05 13:57:58,512 : INFO : EPOCH 5 - PROGRESS: at 60.25% examples, 474171 words/s, in_qsize 7, out_qsize 0\n",
      "2019-12-05 13:57:59,519 : INFO : EPOCH 5 - PROGRESS: at 63.89% examples, 473420 words/s, in_qsize 8, out_qsize 0\n",
      "2019-12-05 13:58:00,524 : INFO : EPOCH 5 - PROGRESS: at 67.46% examples, 472437 words/s, in_qsize 7, out_qsize 0\n",
      "2019-12-05 13:58:01,528 : INFO : EPOCH 5 - PROGRESS: at 71.16% examples, 472326 words/s, in_qsize 7, out_qsize 0\n",
      "2019-12-05 13:58:02,545 : INFO : EPOCH 5 - PROGRESS: at 74.96% examples, 472609 words/s, in_qsize 7, out_qsize 0\n",
      "2019-12-05 13:58:03,554 : INFO : EPOCH 5 - PROGRESS: at 78.73% examples, 472750 words/s, in_qsize 7, out_qsize 0\n",
      "2019-12-05 13:58:04,558 : INFO : EPOCH 5 - PROGRESS: at 82.27% examples, 471655 words/s, in_qsize 7, out_qsize 0\n",
      "2019-12-05 13:58:05,560 : INFO : EPOCH 5 - PROGRESS: at 85.91% examples, 471329 words/s, in_qsize 8, out_qsize 0\n",
      "2019-12-05 13:58:06,564 : INFO : EPOCH 5 - PROGRESS: at 89.48% examples, 470701 words/s, in_qsize 8, out_qsize 0\n",
      "2019-12-05 13:58:07,565 : INFO : EPOCH 5 - PROGRESS: at 93.06% examples, 470161 words/s, in_qsize 7, out_qsize 0\n",
      "2019-12-05 13:58:08,566 : INFO : EPOCH 5 - PROGRESS: at 96.69% examples, 469653 words/s, in_qsize 7, out_qsize 0\n",
      "2019-12-05 13:58:09,461 : INFO : worker thread finished; awaiting finish of 3 more threads\n",
      "2019-12-05 13:58:09,474 : INFO : worker thread finished; awaiting finish of 2 more threads\n",
      "2019-12-05 13:58:09,498 : INFO : worker thread finished; awaiting finish of 1 more threads\n",
      "2019-12-05 13:58:09,533 : INFO : worker thread finished; awaiting finish of 0 more threads\n",
      "2019-12-05 13:58:09,534 : INFO : EPOCH - 5 : training on 17798082 raw words (12750234 effective words) took 27.2s, 468700 effective words/s\n",
      "2019-12-05 13:58:09,535 : INFO : training on a 88990410 raw words (63744644 effective words) took 149.3s, 426978 effective words/s\n",
      "2019-12-05 13:58:09,540 : INFO : precomputing L2-norms of word weight vectors\n",
      "2019-12-05 13:58:10,454 : INFO : saving Word2Vec object under 300features_40minwords_10context, separately None\n",
      "2019-12-05 13:58:10,456 : INFO : not storing attribute vectors_norm\n",
      "2019-12-05 13:58:10,460 : INFO : not storing attribute cum_table\n",
      "2019-12-05 13:58:11,318 : INFO : saved 300features_40minwords_10context\n"
     ]
    }
   ],
   "source": [
    "import logging\n",
    "logging.basicConfig(format='%(asctime)s : %(levelname)s : %(message)s',\\\n",
    "    level=logging.INFO)\n",
    "\n",
    "# values for paramters\n",
    "num_features = 300\n",
    "min_word_count = 40\n",
    "num_workers = 4\n",
    "context = 10\n",
    "downsampling = 1e-3\n",
    "\n",
    "# Initialize and train the model\n",
    "from gensim.models import word2vec\n",
    "\n",
    "print('Training models...')\n",
    "model = word2vec.Word2Vec(sentences, workers=num_workers, size=num_features, \n",
    "                          min_count= min_word_count, window= context, sample= downsampling)\n",
    "\n",
    "# init_sims will make the model much more memory-efficient. Stop the training\n",
    "model.init_sims(replace=True)\n",
    "\n",
    "# save the model for later use. You can load it later using Word2Vec.load()\n",
    "model_name = \"300features_40minwords_10context\"\n",
    "model.save(model_name)"
   ]
  },
  {
   "cell_type": "markdown",
   "metadata": {},
   "source": [
    "### Exploring Model Result"
   ]
  },
  {
   "cell_type": "code",
   "execution_count": 13,
   "metadata": {},
   "outputs": [
    {
     "name": "stderr",
     "output_type": "stream",
     "text": [
      "/Users/ujjawalpathak/anaconda3/lib/python3.7/site-packages/ipykernel_launcher.py:1: DeprecationWarning: Call to deprecated `doesnt_match` (Method will be removed in 4.0.0, use self.wv.doesnt_match() instead).\n",
      "  \"\"\"Entry point for launching an IPython kernel.\n",
      "/Users/ujjawalpathak/anaconda3/lib/python3.7/site-packages/gensim/models/keyedvectors.py:877: FutureWarning: arrays to stack must be passed as a \"sequence\" type such as list or tuple. Support for non-sequence iterables such as generators is deprecated as of NumPy 1.16 and will raise an error in the future.\n",
      "  vectors = vstack(self.word_vec(word, use_norm=True) for word in used_words).astype(REAL)\n"
     ]
    },
    {
     "data": {
      "text/plain": [
       "'kitchen'"
      ]
     },
     "execution_count": 13,
     "metadata": {},
     "output_type": "execute_result"
    }
   ],
   "source": [
    "model.doesnt_match(\"man woman child kitchen\".split())"
   ]
  },
  {
   "cell_type": "code",
   "execution_count": 14,
   "metadata": {},
   "outputs": [
    {
     "name": "stderr",
     "output_type": "stream",
     "text": [
      "/Users/ujjawalpathak/anaconda3/lib/python3.7/site-packages/ipykernel_launcher.py:1: DeprecationWarning: Call to deprecated `doesnt_match` (Method will be removed in 4.0.0, use self.wv.doesnt_match() instead).\n",
      "  \"\"\"Entry point for launching an IPython kernel.\n"
     ]
    },
    {
     "data": {
      "text/plain": [
       "'berlin'"
      ]
     },
     "execution_count": 14,
     "metadata": {},
     "output_type": "execute_result"
    }
   ],
   "source": [
    "model.doesnt_match(\"france england germany berlin\".split())"
   ]
  },
  {
   "cell_type": "code",
   "execution_count": 15,
   "metadata": {},
   "outputs": [
    {
     "name": "stderr",
     "output_type": "stream",
     "text": [
      "/Users/ujjawalpathak/anaconda3/lib/python3.7/site-packages/ipykernel_launcher.py:1: DeprecationWarning: Call to deprecated `doesnt_match` (Method will be removed in 4.0.0, use self.wv.doesnt_match() instead).\n",
      "  \"\"\"Entry point for launching an IPython kernel.\n"
     ]
    },
    {
     "data": {
      "text/plain": [
       "'paris'"
      ]
     },
     "execution_count": 15,
     "metadata": {},
     "output_type": "execute_result"
    }
   ],
   "source": [
    "model.doesnt_match(\"paris berlin london austria\".split())"
   ]
  },
  {
   "cell_type": "code",
   "execution_count": 16,
   "metadata": {},
   "outputs": [
    {
     "name": "stderr",
     "output_type": "stream",
     "text": [
      "/Users/ujjawalpathak/anaconda3/lib/python3.7/site-packages/ipykernel_launcher.py:1: DeprecationWarning: Call to deprecated `most_similar` (Method will be removed in 4.0.0, use self.wv.most_similar() instead).\n",
      "  \"\"\"Entry point for launching an IPython kernel.\n"
     ]
    },
    {
     "data": {
      "text/plain": [
       "[('woman', 0.6070415377616882),\n",
       " ('lady', 0.5974882245063782),\n",
       " ('lad', 0.5737225413322449),\n",
       " ('farmer', 0.5273995399475098),\n",
       " ('men', 0.5217175483703613),\n",
       " ('millionaire', 0.5215692520141602),\n",
       " ('person', 0.5166182518005371),\n",
       " ('guy', 0.5063775777816772),\n",
       " ('chap', 0.5058619379997253),\n",
       " ('monk', 0.5050084590911865)]"
      ]
     },
     "execution_count": 16,
     "metadata": {},
     "output_type": "execute_result"
    }
   ],
   "source": [
    "model.most_similar(\"man\")"
   ]
  },
  {
   "cell_type": "code",
   "execution_count": 17,
   "metadata": {},
   "outputs": [
    {
     "name": "stderr",
     "output_type": "stream",
     "text": [
      "/Users/ujjawalpathak/anaconda3/lib/python3.7/site-packages/ipykernel_launcher.py:1: DeprecationWarning: Call to deprecated `most_similar` (Method will be removed in 4.0.0, use self.wv.most_similar() instead).\n",
      "  \"\"\"Entry point for launching an IPython kernel.\n"
     ]
    },
    {
     "data": {
      "text/plain": [
       "[('princess', 0.6734331846237183),\n",
       " ('bride', 0.6208693981170654),\n",
       " ('showgirl', 0.5959992408752441),\n",
       " ('belle', 0.5832359194755554),\n",
       " ('victoria', 0.5817513465881348),\n",
       " ('maid', 0.5764146447181702),\n",
       " ('goddess', 0.5736275911331177),\n",
       " ('regina', 0.5718240737915039),\n",
       " ('stepmother', 0.5707747936248779),\n",
       " ('aurora', 0.570489227771759)]"
      ]
     },
     "execution_count": 17,
     "metadata": {},
     "output_type": "execute_result"
    }
   ],
   "source": [
    "model.most_similar(\"queen\")"
   ]
  },
  {
   "cell_type": "code",
   "execution_count": 18,
   "metadata": {},
   "outputs": [
    {
     "name": "stderr",
     "output_type": "stream",
     "text": [
      "/Users/ujjawalpathak/anaconda3/lib/python3.7/site-packages/ipykernel_launcher.py:1: DeprecationWarning: Call to deprecated `most_similar` (Method will be removed in 4.0.0, use self.wv.most_similar() instead).\n",
      "  \"\"\"Entry point for launching an IPython kernel.\n"
     ]
    },
    {
     "data": {
      "text/plain": [
       "[('terrible', 0.7674058675765991),\n",
       " ('horrible', 0.7270845174789429),\n",
       " ('dreadful', 0.7221974730491638),\n",
       " ('atrocious', 0.7163230180740356),\n",
       " ('abysmal', 0.7028617858886719),\n",
       " ('horrendous', 0.6942626237869263),\n",
       " ('horrid', 0.6679326295852661),\n",
       " ('lousy', 0.6571812033653259),\n",
       " ('appalling', 0.6511085033416748),\n",
       " ('amateurish', 0.6192115545272827)]"
      ]
     },
     "execution_count": 18,
     "metadata": {},
     "output_type": "execute_result"
    }
   ],
   "source": [
    "model.most_similar(\"awful\")"
   ]
  },
  {
   "cell_type": "code",
   "execution_count": 19,
   "metadata": {},
   "outputs": [],
   "source": [
    "### End"
   ]
  },
  {
   "cell_type": "code",
   "execution_count": null,
   "metadata": {},
   "outputs": [],
   "source": []
  }
 ],
 "metadata": {
  "kernelspec": {
   "display_name": "Python 3",
   "language": "python",
   "name": "python3"
  },
  "language_info": {
   "codemirror_mode": {
    "name": "ipython",
    "version": 3
   },
   "file_extension": ".py",
   "mimetype": "text/x-python",
   "name": "python",
   "nbconvert_exporter": "python",
   "pygments_lexer": "ipython3",
   "version": "3.7.3"
  }
 },
 "nbformat": 4,
 "nbformat_minor": 2
}
